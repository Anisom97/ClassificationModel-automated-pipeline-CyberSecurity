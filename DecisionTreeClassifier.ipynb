{
 "cells": [
  {
   "cell_type": "code",
   "execution_count": null,
   "metadata": {},
   "outputs": [],
   "source": [
    "def DT_model(x_train,y_train,cv_k,cv_method):\n",
    "    if cv_method=='Y':\n",
    "        params=m.param_dt\n",
    "        \n",
    "        classifier=DecisionTreeClassifier(criterion='gini',splitter='best',random_state=369)\n",
    "        dt_model,cv_scores_dt,y_pred_train_dt,yz=cross_valid_result(classifier,x_train,y_train,cv_k,params)\n",
    "        \n",
    "    else:\n",
    "        classifier=DecisionTreeClssifier(criterion='gini',splitter='best',max_depth=5,min_samples_split=3,min_sample_leaf=2)\n",
    "        \n",
    "        dt_model=classifier.fit(x_train,y_train)\n",
    "        y_pred_train_dt=dt_model.predict(x_train)\n",
    "        cv_scores_dt=[]\n",
    "    return dt_model,cv_scores_dt,y_pred_train_dt"
   ]
  },
  {
   "cell_type": "code",
   "execution_count": null,
   "metadata": {},
   "outputs": [],
   "source": [
    "def DT_metric(y_train,y_pred_train_dt,x_valid,y_valid,dt_model):\n",
    "    train_avg_metric_dt,valid_avg_metric_dt,y_pred_valid_dt,acc_train_dt,acc_valid_dt=model_metric_calculation(y_train,\n",
    "                                                                                                              y_pred_train_dt,\n",
    "                                                                                                              x_valid,\n",
    "                                                                                                              y_valid,\n",
    "                                                                                                              dt_model,\n",
    "                                                                                                              'Decision Tree')\n",
    "    return train_avg_metric_dt,valid_avg_metric_dt,y_pred_valid_dt,acc_train_dt, acc_valid_dt"
   ]
  },
  {
   "cell_type": "code",
   "execution_count": null,
   "metadata": {},
   "outputs": [],
   "source": [
    "def DT_store(y_pred_valid,x_valid_cp):\n",
    "    pred_valid_dt=pd.DataFrame(y_pred_valid_dt,columns=['pred_valid_dt'])\n",
    "    x_valid_cp=x_valid_cp.reset_index().drop('index',axis=1)\n",
    "    x_valid_cp['xxx']=x_valid_cp['xxx'].astype(str)\n",
    "    return x_valid_cp,pred_valid_dt"
   ]
  }
 ],
 "metadata": {
  "kernelspec": {
   "display_name": "Python 3",
   "language": "python",
   "name": "python3"
  },
  "language_info": {
   "codemirror_mode": {
    "name": "ipython",
    "version": 3
   },
   "file_extension": ".py",
   "mimetype": "text/x-python",
   "name": "python",
   "nbconvert_exporter": "python",
   "pygments_lexer": "ipython3",
   "version": "3.7.0"
  }
 },
 "nbformat": 4,
 "nbformat_minor": 4
}
