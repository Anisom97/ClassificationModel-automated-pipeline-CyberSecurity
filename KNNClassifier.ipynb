{
 "cells": [
  {
   "cell_type": "code",
   "execution_count": null,
   "metadata": {},
   "outputs": [],
   "source": [
    "def KNN_model(x_train,y_train,cv_k,cv_method):\n",
    "    if cv_method=='Y':\n",
    "        params=m.param_knn\n",
    "        \n",
    "        classifier=KNeighborsClassifier(weights='distance')\n",
    "        knn_model,cv_scores_knn,y_pred_train_knn,yz_knn=cross_valid_result(classifier,\n",
    "                                                                          x_train,\n",
    "                                                                          y_train,\n",
    "                                                                          m.cv_value,\n",
    "                                                                          params)\n",
    "        \n",
    "        else:\n",
    "            classifier=KNeighborsClassifier(leaf_size=30,n_neighbors=5,p=2)\n",
    "            knn_model=classifier.fit(x_train,\n",
    "                                    y_train)\n",
    "            y_pred_train_knn=knn_model.predict(x_train)\n",
    "            cv_scores_knn=[]\n",
    "     return knn_model,cv_scores_knn,y_pred_train_knn"
   ]
  },
  {
   "cell_type": "code",
   "execution_count": null,
   "metadata": {},
   "outputs": [],
   "source": [
    "def cros_val_knn(cv_scores_knn):\n",
    "    if cv_scores_knn==[]:\n",
    "        pass:\n",
    "    else:\n",
    "        cross_val_plot(cv_scores_knn,\"k-Nearest Neighbours\",\"F1-Score\")"
   ]
  }
 ],
 "metadata": {
  "kernelspec": {
   "display_name": "Python 3",
   "language": "python",
   "name": "python3"
  },
  "language_info": {
   "codemirror_mode": {
    "name": "ipython",
    "version": 3
   },
   "file_extension": ".py",
   "mimetype": "text/x-python",
   "name": "python",
   "nbconvert_exporter": "python",
   "pygments_lexer": "ipython3",
   "version": "3.7.0"
  }
 },
 "nbformat": 4,
 "nbformat_minor": 4
}
