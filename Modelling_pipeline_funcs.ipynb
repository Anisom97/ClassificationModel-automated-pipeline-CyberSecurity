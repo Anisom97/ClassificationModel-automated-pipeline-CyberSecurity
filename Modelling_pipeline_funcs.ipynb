{
 "cells": [
  {
   "cell_type": "code",
   "execution_count": null,
   "metadata": {},
   "outputs": [],
   "source": [
    "def feature_selection_plot(inp_df,inp_feature_count,inp_model_name):\n",
    "    scaler=MinMaxScaler()\n",
    "    inp_df.columns=['Features','Importance']\n",
    "    importance_scaled=pd.DataFrame(scaler.fit_transform(inp_df[['Importance']].values),index=inp_df.index, columns=['Importance'])\n",
    "    inp_df['Importance']=importance_scaled['Importance']\n",
    "    inp_df.sort_values(by='Importance', inplace=True, ascending=True)\n",
    "    df_plot=inp_df.tail(inp_feature_count).reset_index(drop=True)\n",
    "    fig=go.Figure()\n",
    "    fig.add_trace(go.Bar(x=df_plot['Importance'],\n",
    "                        y=df_plot['Features']\n",
    "                        orientation='h'))\n",
    "    fig.update_traces(marker_color='steelblue')\n",
    "    fig.update_traces(title='Importance')\n",
    "    fig.update_traces(title='Features')\n",
    "    fig.update_traces(title='Feature selection using {}'.format(inp_model_name))\n",
    "    fig.show(config={'displaylogo':False})\n",
    "    return inp_df"
   ]
  },
  {
   "cell_type": "code",
   "execution_count": null,
   "metadata": {},
   "outputs": [],
   "source": [
    "def cross_val_plot(cross_val_scores,model_name,metric_name):\n",
    "    abs_error=[abs(ele) for ele in cross_val_scores]\n",
    "    folds=[\"Fold {}\".format(ele) for ele in range(1,len(cross_val_scores)+1)]\n",
    "    fig=go.Figure([go.Bar(x=folds,y=abs_error,marker_color='steelblue')])\n",
    "    title='{} fold cross-validation for {}'.format(len(cross_val_scores),model_name)\n",
    "    fig.update_layout(title=title,\n",
    "                     xaxis_title='Folds'\n",
    "                     yaxis_title=metric_name, width=900,height=500)\n",
    "    fig.show(config={'displaylogo':False})"
   ]
  },
  {
   "cell_type": "code",
   "execution_count": null,
   "metadata": {},
   "outputs": [],
   "source": [
    "def cross_valid_result(classifier,x_data_t,y_data_t,cv_k,params):\n",
    "    skf=StratifiedKFold(n_splits=cv_k,shuffle=True,random_state=369)\n",
    "    grid_search=GridSearchCV(classifier,param_grid=params,\n",
    "                            cv=skf.split(x_data_t,y_data_t),\n",
    "                            scoring='f1_macro',n_jobs=-1,verbose=3)\n",
    "    model_opt=grid_searchd_search.fit(x_data_t,y_data_t)\n",
    "    \n",
    "    cv_res_df=pd.DataFrame(data=model_opt.cv_results_)\n",
    "    cv_res_df.drop(['mean_fit_time','std_fit_time','mean_score_time','std_test_score','params'],axis=1,inplace=True)\n",
    "    cv_res_df_col=list(cv_res_df.columns)\n",
    "    cv_res_df_col.insert(0,cv_res_df_col.pop())\n",
    "    cv_res_df=cv_res_df.reindex(columns=cv_res_df_col).sort_values(by='rank_test_score')\n",
    "    \n",
    "    opt_params=model_opt.best_params_\n",
    "    classifier=classifier.set_params(**opt_params)\n",
    "    final_model=classifier.fit(x_data_t,y_data_t)\n",
    "    y_pred_t=final_model.predict(x_data_t)\n",
    "    cv_scores=cross_valid_score(classifier,x_data_t,y_data_t,cv=cv_k,scoring='f1_macro')\n",
    "    clear_output()\n",
    "    \n",
    "    display(Markdown('__Cross validation for TRAIN dataset__'))\n",
    "    display_data(cv_res_df.round(4))\n",
    "    \n",
    "    display(Markdown('__Best parameters__'))\n",
    "    for k,v in opt_params.items():\n",
    "        display(Markdown('__{}__ : {}'.format(k,v)))\n",
    "        \n",
    "    return final_model,cv_scores,y_pred_t,opt_params\n",
    "    "
   ]
  },
  {
   "cell_type": "code",
   "execution_count": null,
   "metadata": {},
   "outputs": [],
   "source": [
    "def calculate_cm(cm):\n",
    "    FP=cm.sum(axis=0)-np.diag(cm)\n",
    "    FN=cm.sum(axis=1)-np.diag(cm)\n",
    "    TP=np.diag(cm)\n",
    "    TN=cm.sum()-(FP+FN+TP)\n",
    "    \n",
    "    FP=FP.astype(float)\n",
    "    FN=FN.astype(float)\n",
    "    TP=TP.astype(float)\n",
    "    TN=TN.astype(float)\n",
    "    \n",
    "    return FP,FN,TP,TN"
   ]
  }
 ],
 "metadata": {
  "kernelspec": {
   "display_name": "Python 3",
   "language": "python",
   "name": "python3"
  },
  "language_info": {
   "codemirror_mode": {
    "name": "ipython",
    "version": 3
   },
   "file_extension": ".py",
   "mimetype": "text/x-python",
   "name": "python",
   "nbconvert_exporter": "python",
   "pygments_lexer": "ipython3",
   "version": "3.7.0"
  }
 },
 "nbformat": 4,
 "nbformat_minor": 4
}
